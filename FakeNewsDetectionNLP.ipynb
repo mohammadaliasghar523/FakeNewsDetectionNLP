{
 "cells": [
  {
   "cell_type": "code",
   "execution_count": 32,
   "id": "d8a7a1f9-958f-434c-91c9-834340786188",
   "metadata": {},
   "outputs": [
    {
     "data": {
      "text/html": [
       "<div>\n",
       "<style scoped>\n",
       "    .dataframe tbody tr th:only-of-type {\n",
       "        vertical-align: middle;\n",
       "    }\n",
       "\n",
       "    .dataframe tbody tr th {\n",
       "        vertical-align: top;\n",
       "    }\n",
       "\n",
       "    .dataframe thead th {\n",
       "        text-align: right;\n",
       "    }\n",
       "</style>\n",
       "<table border=\"1\" class=\"dataframe\">\n",
       "  <thead>\n",
       "    <tr style=\"text-align: right;\">\n",
       "      <th></th>\n",
       "      <th>id</th>\n",
       "      <th>title</th>\n",
       "      <th>author</th>\n",
       "      <th>text</th>\n",
       "      <th>label</th>\n",
       "    </tr>\n",
       "  </thead>\n",
       "  <tbody>\n",
       "    <tr>\n",
       "      <th>0</th>\n",
       "      <td>0</td>\n",
       "      <td>House Dem Aide: We Didn’t Even See Comey’s Let...</td>\n",
       "      <td>Darrell Lucus</td>\n",
       "      <td>House Dem Aide: We Didn’t Even See Comey’s Let...</td>\n",
       "      <td>1</td>\n",
       "    </tr>\n",
       "    <tr>\n",
       "      <th>1</th>\n",
       "      <td>1</td>\n",
       "      <td>FLYNN: Hillary Clinton, Big Woman on Campus - ...</td>\n",
       "      <td>Daniel J. Flynn</td>\n",
       "      <td>Ever get the feeling your life circles the rou...</td>\n",
       "      <td>0</td>\n",
       "    </tr>\n",
       "    <tr>\n",
       "      <th>2</th>\n",
       "      <td>2</td>\n",
       "      <td>Why the Truth Might Get You Fired</td>\n",
       "      <td>Consortiumnews.com</td>\n",
       "      <td>Why the Truth Might Get You Fired October 29, ...</td>\n",
       "      <td>1</td>\n",
       "    </tr>\n",
       "    <tr>\n",
       "      <th>3</th>\n",
       "      <td>3</td>\n",
       "      <td>15 Civilians Killed In Single US Airstrike Hav...</td>\n",
       "      <td>Jessica Purkiss</td>\n",
       "      <td>Videos 15 Civilians Killed In Single US Airstr...</td>\n",
       "      <td>1</td>\n",
       "    </tr>\n",
       "    <tr>\n",
       "      <th>4</th>\n",
       "      <td>4</td>\n",
       "      <td>Iranian woman jailed for fictional unpublished...</td>\n",
       "      <td>Howard Portnoy</td>\n",
       "      <td>Print \\nAn Iranian woman has been sentenced to...</td>\n",
       "      <td>1</td>\n",
       "    </tr>\n",
       "  </tbody>\n",
       "</table>\n",
       "</div>"
      ],
      "text/plain": [
       "   id                                              title              author  \\\n",
       "0   0  House Dem Aide: We Didn’t Even See Comey’s Let...       Darrell Lucus   \n",
       "1   1  FLYNN: Hillary Clinton, Big Woman on Campus - ...     Daniel J. Flynn   \n",
       "2   2                  Why the Truth Might Get You Fired  Consortiumnews.com   \n",
       "3   3  15 Civilians Killed In Single US Airstrike Hav...     Jessica Purkiss   \n",
       "4   4  Iranian woman jailed for fictional unpublished...      Howard Portnoy   \n",
       "\n",
       "                                                text  label  \n",
       "0  House Dem Aide: We Didn’t Even See Comey’s Let...      1  \n",
       "1  Ever get the feeling your life circles the rou...      0  \n",
       "2  Why the Truth Might Get You Fired October 29, ...      1  \n",
       "3  Videos 15 Civilians Killed In Single US Airstr...      1  \n",
       "4  Print \\nAn Iranian woman has been sentenced to...      1  "
      ]
     },
     "execution_count": 32,
     "metadata": {},
     "output_type": "execute_result"
    }
   ],
   "source": [
    "import pandas as pd #data processing\n",
    "import seaborn as sns\n",
    "import matplotlib.pyplot as plt\n",
    "import nltk\n",
    "import re\n",
    "from nltk.corpus import stopwords\n",
    "from nltk.stem import WordNetLemmatizer\n",
    "import matplotlib.pyplot as plt\n",
    "from sklearn.metrics import precision_score, \\\n",
    "    recall_score, confusion_matrix, classification_report, \\\n",
    "    accuracy_score, f1_score\n",
    "\n",
    "df=pd.read_csv('fake-news/fake-news.csv')\n",
    "df.head()\n"
   ]
  },
  {
   "cell_type": "code",
   "execution_count": 2,
   "id": "ab48efd5-8ac6-4be1-acb1-7b038d2e4da4",
   "metadata": {},
   "outputs": [
    {
     "data": {
      "text/plain": [
       "id           0\n",
       "title      558\n",
       "author    1957\n",
       "text        39\n",
       "label        0\n",
       "dtype: int64"
      ]
     },
     "execution_count": 2,
     "metadata": {},
     "output_type": "execute_result"
    }
   ],
   "source": [
    "df.isnull().sum()"
   ]
  },
  {
   "cell_type": "code",
   "execution_count": 3,
   "id": "69b32143-35e0-45bb-a67f-45c13d7f6e32",
   "metadata": {},
   "outputs": [],
   "source": [
    "df = df.fillna(' ')"
   ]
  },
  {
   "cell_type": "code",
   "execution_count": 4,
   "id": "fa58f65e-31ac-45d6-b957-72ed2f7d3353",
   "metadata": {},
   "outputs": [
    {
     "data": {
      "text/plain": [
       "id        0\n",
       "title     0\n",
       "author    0\n",
       "text      0\n",
       "label     0\n",
       "dtype: int64"
      ]
     },
     "execution_count": 4,
     "metadata": {},
     "output_type": "execute_result"
    }
   ],
   "source": [
    "df.isnull().sum()"
   ]
  },
  {
   "cell_type": "code",
   "execution_count": 5,
   "id": "45a3ad68-101c-45be-b337-1b657c22989f",
   "metadata": {},
   "outputs": [
    {
     "data": {
      "text/html": [
       "<div>\n",
       "<style scoped>\n",
       "    .dataframe tbody tr th:only-of-type {\n",
       "        vertical-align: middle;\n",
       "    }\n",
       "\n",
       "    .dataframe tbody tr th {\n",
       "        vertical-align: top;\n",
       "    }\n",
       "\n",
       "    .dataframe thead th {\n",
       "        text-align: right;\n",
       "    }\n",
       "</style>\n",
       "<table border=\"1\" class=\"dataframe\">\n",
       "  <thead>\n",
       "    <tr style=\"text-align: right;\">\n",
       "      <th></th>\n",
       "      <th>id</th>\n",
       "      <th>title</th>\n",
       "      <th>author</th>\n",
       "      <th>text</th>\n",
       "      <th>label</th>\n",
       "    </tr>\n",
       "  </thead>\n",
       "  <tbody>\n",
       "    <tr>\n",
       "      <th>0</th>\n",
       "      <td>0</td>\n",
       "      <td>House Dem Aide: We Didn’t Even See Comey’s Let...</td>\n",
       "      <td>Darrell Lucus</td>\n",
       "      <td>House Dem Aide: We Didn’t Even See Comey’s Let...</td>\n",
       "      <td>1</td>\n",
       "    </tr>\n",
       "    <tr>\n",
       "      <th>1</th>\n",
       "      <td>1</td>\n",
       "      <td>FLYNN: Hillary Clinton, Big Woman on Campus - ...</td>\n",
       "      <td>Daniel J. Flynn</td>\n",
       "      <td>Ever get the feeling your life circles the rou...</td>\n",
       "      <td>0</td>\n",
       "    </tr>\n",
       "    <tr>\n",
       "      <th>2</th>\n",
       "      <td>2</td>\n",
       "      <td>Why the Truth Might Get You Fired</td>\n",
       "      <td>Consortiumnews.com</td>\n",
       "      <td>Why the Truth Might Get You Fired October 29, ...</td>\n",
       "      <td>1</td>\n",
       "    </tr>\n",
       "    <tr>\n",
       "      <th>3</th>\n",
       "      <td>3</td>\n",
       "      <td>15 Civilians Killed In Single US Airstrike Hav...</td>\n",
       "      <td>Jessica Purkiss</td>\n",
       "      <td>Videos 15 Civilians Killed In Single US Airstr...</td>\n",
       "      <td>1</td>\n",
       "    </tr>\n",
       "    <tr>\n",
       "      <th>4</th>\n",
       "      <td>4</td>\n",
       "      <td>Iranian woman jailed for fictional unpublished...</td>\n",
       "      <td>Howard Portnoy</td>\n",
       "      <td>Print \\nAn Iranian woman has been sentenced to...</td>\n",
       "      <td>1</td>\n",
       "    </tr>\n",
       "  </tbody>\n",
       "</table>\n",
       "</div>"
      ],
      "text/plain": [
       "   id                                              title              author  \\\n",
       "0   0  House Dem Aide: We Didn’t Even See Comey’s Let...       Darrell Lucus   \n",
       "1   1  FLYNN: Hillary Clinton, Big Woman on Campus - ...     Daniel J. Flynn   \n",
       "2   2                  Why the Truth Might Get You Fired  Consortiumnews.com   \n",
       "3   3  15 Civilians Killed In Single US Airstrike Hav...     Jessica Purkiss   \n",
       "4   4  Iranian woman jailed for fictional unpublished...      Howard Portnoy   \n",
       "\n",
       "                                                text  label  \n",
       "0  House Dem Aide: We Didn’t Even See Comey’s Let...      1  \n",
       "1  Ever get the feeling your life circles the rou...      0  \n",
       "2  Why the Truth Might Get You Fired October 29, ...      1  \n",
       "3  Videos 15 Civilians Killed In Single US Airstr...      1  \n",
       "4  Print \\nAn Iranian woman has been sentenced to...      1  "
      ]
     },
     "execution_count": 5,
     "metadata": {},
     "output_type": "execute_result"
    }
   ],
   "source": [
    "df.head()"
   ]
  },
  {
   "cell_type": "code",
   "execution_count": 6,
   "id": "b813b59d-5e50-4d19-8ebe-d214615a187d",
   "metadata": {},
   "outputs": [
    {
     "data": {
      "text/plain": [
       "<AxesSubplot:xlabel='label', ylabel='count'>"
      ]
     },
     "execution_count": 6,
     "metadata": {},
     "output_type": "execute_result"
    },
    {
     "data": {
      "image/png": "[encoded data removed]",
      "text/plain": [
       "<Figure size 640x480 with 1 Axes>"
      ]
     },
     "metadata": {},
     "output_type": "display_data"
    }
   ],
   "source": [
    "sns.countplot(x='label',data=df)"
   ]
  },
  {
   "cell_type": "code",
   "execution_count": 7,
   "id": "e09a94cf-4b24-49b5-9889-09be0b4879eb",
   "metadata": {},
   "outputs": [],
   "source": [
    "df['total'] = df['title'] + ' ' + df['author'] + ' ' + df['text']"
   ]
  },
  {
   "cell_type": "code",
   "execution_count": 8,
   "id": "bdd33658-0788-4b8b-a529-8b44367089ab",
   "metadata": {},
   "outputs": [],
   "source": [
    "import nltk\n",
    "import re\n",
    "from nltk.corpus import stopwords\n",
    "from nltk.stem import WordNetLemmatizer"
   ]
  },
  {
   "cell_type": "code",
   "execution_count": 9,
   "id": "80c13e10-58d0-4d23-befc-8b5a204f5d94",
   "metadata": {},
   "outputs": [],
   "source": [
    "lemmatizer = WordNetLemmatizer()\n",
    "stop_words = stopwords.words('english')\n",
    "for index, row in df.iterrows():\n",
    "    filter_sentence = ''\n",
    "    sentence = row['total']\n",
    "    # Cleaning the sentence with regex\n",
    "    sentence = re.sub(r'[^\\w\\s]', '', sentence)\n",
    "    # Tokenization\n",
    "    words = nltk.word_tokenize(sentence)\n",
    "    # Stopwords removal\n",
    "    words = [w for w in words if not w in stop_words]\n",
    "    # Lemmatization\n",
    "    for words in words:\n",
    "        filter_sentence = filter_sentence  + ' ' + str(lemmatizer.lemmatize(words)).lower()\n",
    "    df.loc[index, 'total'] = filter_sentence\n",
    "\n",
    "df = df[['total', 'label']]"
   ]
  },
  {
   "cell_type": "code",
   "execution_count": 10,
   "id": "be4bf732-1f97-492c-8929-35002162cdaf",
   "metadata": {},
   "outputs": [
    {
     "data": {
      "text/html": [
       "<div>\n",
       "<style scoped>\n",
       "    .dataframe tbody tr th:only-of-type {\n",
       "        vertical-align: middle;\n",
       "    }\n",
       "\n",
       "    .dataframe tbody tr th {\n",
       "        vertical-align: top;\n",
       "    }\n",
       "\n",
       "    .dataframe thead th {\n",
       "        text-align: right;\n",
       "    }\n",
       "</style>\n",
       "<table border=\"1\" class=\"dataframe\">\n",
       "  <thead>\n",
       "    <tr style=\"text-align: right;\">\n",
       "      <th></th>\n",
       "      <th>total</th>\n",
       "      <th>label</th>\n",
       "    </tr>\n",
       "  </thead>\n",
       "  <tbody>\n",
       "    <tr>\n",
       "      <th>0</th>\n",
       "      <td>house dem aide we didnt even see comeys lette...</td>\n",
       "      <td>1</td>\n",
       "    </tr>\n",
       "    <tr>\n",
       "      <th>1</th>\n",
       "      <td>flynn hillary clinton big woman campus breitb...</td>\n",
       "      <td>0</td>\n",
       "    </tr>\n",
       "    <tr>\n",
       "      <th>2</th>\n",
       "      <td>why truth might get you fired consortiumnewsc...</td>\n",
       "      <td>1</td>\n",
       "    </tr>\n",
       "    <tr>\n",
       "      <th>3</th>\n",
       "      <td>15 civilians killed in single us airstrike ha...</td>\n",
       "      <td>1</td>\n",
       "    </tr>\n",
       "    <tr>\n",
       "      <th>4</th>\n",
       "      <td>iranian woman jailed fictional unpublished st...</td>\n",
       "      <td>1</td>\n",
       "    </tr>\n",
       "  </tbody>\n",
       "</table>\n",
       "</div>"
      ],
      "text/plain": [
       "                                               total  label\n",
       "0   house dem aide we didnt even see comeys lette...      1\n",
       "1   flynn hillary clinton big woman campus breitb...      0\n",
       "2   why truth might get you fired consortiumnewsc...      1\n",
       "3   15 civilians killed in single us airstrike ha...      1\n",
       "4   iranian woman jailed fictional unpublished st...      1"
      ]
     },
     "execution_count": 10,
     "metadata": {},
     "output_type": "execute_result"
    }
   ],
   "source": [
    "df.head()"
   ]
  },
  {
   "cell_type": "code",
   "execution_count": 11,
   "id": "354824cb-2df5-4c2d-9ae4-f37e5cea3d3c",
   "metadata": {},
   "outputs": [],
   "source": [
    "X_train = df['total']\n",
    "Y_train = df['label']"
   ]
  },
  {
   "cell_type": "code",
   "execution_count": 12,
   "id": "21a04b56-4121-4330-8f5b-7a2d1f0133a9",
   "metadata": {},
   "outputs": [],
   "source": [
    "#Vectorizer\n",
    "from sklearn.feature_extraction.text import TfidfTransformer\n",
    "from sklearn.feature_extraction.text import CountVectorizer\n",
    "from sklearn.feature_extraction.text import TfidfVectorizer\n",
    "count_vectorizer = CountVectorizer()\n",
    "count_vectorizer.fit_transform(X_train)\n",
    "freq_term_matrix = count_vectorizer.transform(X_train)\n",
    "tfidf = TfidfTransformer(norm = \"l2\")\n",
    "tfidf.fit(freq_term_matrix)\n",
    "tf_idf_matrix = tfidf.fit_transform(freq_term_matrix)"
   ]
  },
  {
   "cell_type": "code",
   "execution_count": 13,
   "id": "9074aa47-bc24-415c-ad45-062e8977dffc",
   "metadata": {},
   "outputs": [],
   "source": [
    "from sklearn.model_selection import train_test_split\n",
    "X_train, X_test, Y_train, Y_test = train_test_split(tf_idf_matrix, Y_train, random_state=0)"
   ]
  },
  {
   "cell_type": "code",
   "execution_count": 14,
   "id": "9b541ecd-0ecc-4eb0-8544-9d7cd12bc345",
   "metadata": {},
   "outputs": [
    {
     "name": "stdout",
     "output_type": "stream",
     "text": [
      "  (0, 183612)\t0.07899964191274957\n",
      "  (0, 183538)\t0.05913417163539868\n",
      "  (0, 183075)\t0.025234486700569814\n",
      "  (0, 181805)\t0.024532404198010605\n",
      "  (0, 181620)\t0.03255766062720545\n",
      "  (0, 180984)\t0.045682363006551346\n",
      "  (0, 179761)\t0.03997438546284669\n",
      "  (0, 178834)\t0.06686426090539281\n",
      "  (0, 174241)\t0.1065167901434828\n",
      "  (0, 168620)\t0.06208290690025709\n",
      "  (0, 167579)\t0.06789529719729305\n",
      "  (0, 166078)\t0.09218418174148231\n",
      "  (0, 166055)\t0.060713367278905125\n",
      "  (0, 165994)\t0.025659050924499965\n",
      "  (0, 165665)\t0.04889565062449755\n",
      "  (0, 165372)\t0.04505954806517732\n",
      "  (0, 165041)\t0.03412204857562417\n",
      "  (0, 164527)\t0.035404829539302386\n",
      "  (0, 162219)\t0.045857247930900895\n",
      "  (0, 162105)\t0.03196248668827905\n",
      "  (0, 159311)\t0.07791900701693827\n",
      "  (0, 158394)\t0.07374224437820319\n",
      "  (0, 158041)\t0.14180073398931745\n",
      "  (0, 156841)\t0.06886332901956349\n",
      "  (0, 154809)\t0.10330637952602734\n",
      "  :\t:\n",
      "  (5199, 35017)\t0.08481018350962373\n",
      "  (5199, 32578)\t0.06028788898769838\n",
      "  (5199, 31569)\t0.06436787701890691\n",
      "  (5199, 29239)\t0.07001257568565532\n",
      "  (5199, 27672)\t0.028753881416350036\n",
      "  (5199, 25469)\t0.08579590582859213\n",
      "  (5199, 22730)\t0.02910459019670576\n",
      "  (5199, 22028)\t0.05832620945116796\n",
      "  (5199, 17715)\t0.057914292924626846\n",
      "  (5199, 17418)\t0.040089593788729776\n",
      "  (5199, 16793)\t0.024119743655192573\n",
      "  (5199, 16423)\t0.04208553731329914\n",
      "  (5199, 15696)\t0.04021549191572706\n",
      "  (5199, 15369)\t0.03111933400700238\n",
      "  (5199, 14212)\t0.14437665642584604\n",
      "  (5199, 14208)\t0.09385423733918052\n",
      "  (5199, 9104)\t0.04323205304607906\n",
      "  (5199, 8619)\t0.04606524184892252\n",
      "  (5199, 8557)\t0.0666891265535648\n",
      "  (5199, 8556)\t0.1013606226307264\n",
      "  (5199, 8527)\t0.05502815253900408\n",
      "  (5199, 8301)\t0.0617907092816248\n",
      "  (5199, 5009)\t0.1013606226307264\n",
      "  (5199, 4951)\t0.03779914015426438\n",
      "  (5199, 1)\t0.031205718033333555\n",
      "20386    0\n",
      "16794    1\n",
      "5500     1\n",
      "9398     0\n",
      "4266     0\n",
      "        ..\n",
      "7884     1\n",
      "18558    1\n",
      "3188     0\n",
      "19667    1\n",
      "5464     0\n",
      "Name: label, Length: 5200, dtype: int64\n"
     ]
    }
   ],
   "source": [
    "print(X_test)\n",
    "print(Y_test)"
   ]
  },
  {
   "cell_type": "code",
   "execution_count": 15,
   "id": "480a5b10-b8d2-4f14-aeab-2c48753ac943",
   "metadata": {},
   "outputs": [
    {
     "name": "stdout",
     "output_type": "stream",
     "text": [
      "Logistic Regression 96.15384615384616\n"
     ]
    }
   ],
   "source": [
    "#Logistic Regression\n",
    "from sklearn.linear_model import LogisticRegression\n",
    "logreg = LogisticRegression()\n",
    "logreg.fit(X_train, Y_train)\n",
    "Accuracy1 = logreg.score(X_test, Y_test)\n",
    "print(\"Logistic Regression Accuracy\",Accuracy1*100)"
   ]
  },
  {
   "cell_type": "code",
   "execution_count": 16,
   "id": "cf1fde3f-2ffe-4c81-a120-e8676ca34070",
   "metadata": {},
   "outputs": [
    {
     "name": "stdout",
     "output_type": "stream",
     "text": [
      "[0 1 1 ... 0 1 1]\n"
     ]
    }
   ],
   "source": [
    "logRegPrediction = logreg.predict(X_test)\n",
    "print(logRegPrediction)"
   ]
  },
  {
   "cell_type": "code",
   "execution_count": 34,
   "id": "0144e953-aea4-4299-af8f-01f02677440d",
   "metadata": {},
   "outputs": [
    {
     "name": "stdout",
     "output_type": "stream",
     "text": [
      "Logistic Regression Accuracy 0.9615384615384616\n",
      "Logistic Regression f1_score 0.9615230707667684\n",
      "Logistic Regression precision_score 0.9616731918400989\n",
      "Logistic Regression recall_score 0.961445862993852\n"
     ]
    }
   ],
   "source": [
    "print(\"Logistic Regression Accuracy\",Accuracy1)\n",
    "print(\"Logistic Regression f1_score\",f1_score(Y_test, logRegPrediction, average=\"macro\"))\n",
    "print(\"Logistic Regression precision_score\",precision_score(Y_test, logRegPrediction, average=\"macro\"))\n",
    "print(\"Logistic Regression recall_score\",recall_score(Y_test, logRegPrediction, average=\"macro\"))"
   ]
  },
  {
   "cell_type": "code",
   "execution_count": 18,
   "id": "0b41e378-f776-486c-8119-1362b9e01df1",
   "metadata": {},
   "outputs": [
    {
     "name": "stdout",
     "output_type": "stream",
     "text": [
      "[[2448  116]\n",
      " [  84 2552]]\n"
     ]
    },
    {
     "data": {
      "image/png": "[encoded data removed]",
      "text/plain": [
       "<Figure size 500x500 with 2 Axes>"
      ]
     },
     "metadata": {},
     "output_type": "display_data"
    }
   ],
   "source": [
    "#Confusion Metrics\n",
    "logRegcm = metrics.confusion_matrix(Y_test, logRegPrediction)\n",
    "print(logRegcm)\n",
    "\n",
    "plt.figure(figsize=(5,5))\n",
    "sns.heatmap(logRegcm, annot=True, fmt=\".3f\", linewidths=.5, square = True, cmap = 'Blues_r');\n",
    "plt.ylabel('Actual label');\n",
    "plt.xlabel('Predicted label');\n",
    "all_sample_title = 'Accuracy Score: {0}'.format(Accuracy1)\n",
    "plt.title(all_sample_title, size = 15);"
   ]
  },
  {
   "cell_type": "code",
   "execution_count": 19,
   "id": "3fd871b1-9bae-4faf-b3a7-cda70424c99c",
   "metadata": {},
   "outputs": [
    {
     "name": "stdout",
     "output_type": "stream",
     "text": [
      "Naive Bayes 84.42307692307692\n"
     ]
    }
   ],
   "source": [
    "#Naive Bayes\n",
    "from sklearn.naive_bayes import MultinomialNB\n",
    "NB = MultinomialNB()\n",
    "NB.fit(X_train, Y_train)\n",
    "Accuracy2 = NB.score(X_test, Y_test)\n",
    "print(\"Naive Bayes\",Accuracy2*100)"
   ]
  },
  {
   "cell_type": "code",
   "execution_count": 20,
   "id": "a93124aa-1023-4d6b-b9d5-19d7b7af6d1c",
   "metadata": {},
   "outputs": [
    {
     "name": "stdout",
     "output_type": "stream",
     "text": [
      "[0 0 1 ... 0 1 0]\n"
     ]
    }
   ],
   "source": [
    "NBPrediction = NB.predict(X_test)\n",
    "print(NBPrediction)"
   ]
  },
  {
   "cell_type": "code",
   "execution_count": 42,
   "id": "9e08cee9-cd7c-4639-beda-c36edc3c282b",
   "metadata": {},
   "outputs": [
    {
     "name": "stdout",
     "output_type": "stream",
     "text": [
      "Naive Bayes Accuracy 0.8442307692307692\n",
      "Naive Bayes f1_score 0.841151457333553\n",
      "Naive Bayes precision_score 0.8786037784679088\n",
      "Naive Bayes recall_score 0.8463208331064653\n"
     ]
    }
   ],
   "source": [
    "print(\"Naive Bayes Accuracy\",Accuracy2)\n",
    "print(\"Naive Bayes f1_score\",f1_score(Y_test, NBPrediction, average=\"macro\"))\n",
    "print(\"Naive Bayes precision_score\",precision_score(Y_test, NBPrediction, average=\"macro\"))\n",
    "print(\"Naive Bayes recall_score\",recall_score(Y_test, NBPrediction, average=\"macro\"))\n"
   ]
  },
  {
   "cell_type": "code",
   "execution_count": 21,
   "id": "39ff768c-23e8-4e6d-92f2-03c848a71c6b",
   "metadata": {},
   "outputs": [
    {
     "name": "stdout",
     "output_type": "stream",
     "text": [
      "[[2557    7]\n",
      " [ 803 1833]]\n"
     ]
    },
    {
     "data": {
      "image/png": "[encoded data removed]",
      "text/plain": [
       "<Figure size 500x500 with 2 Axes>"
      ]
     },
     "metadata": {},
     "output_type": "display_data"
    }
   ],
   "source": [
    "#Confusion Metrics\n",
    "NBcm = metrics.confusion_matrix(Y_test, NBPrediction)\n",
    "print(NBcm)\n",
    "\n",
    "plt.figure(figsize=(5,5))\n",
    "sns.heatmap(NBcm, annot=True, fmt=\".3f\", linewidths=.5, square = True, cmap = 'Blues_r');\n",
    "plt.ylabel('Actual label');\n",
    "plt.xlabel('Predicted label');\n",
    "all_sample_title = 'Accuracy Score: {0}'.format(Accuracy2)\n",
    "plt.title(all_sample_title, size = 15);"
   ]
  },
  {
   "cell_type": "code",
   "execution_count": 22,
   "id": "583482be-1a99-4f56-afdb-df11a679e7c2",
   "metadata": {},
   "outputs": [
    {
     "name": "stdout",
     "output_type": "stream",
     "text": [
      "Decision Tree Classifier 97.01923076923077\n"
     ]
    }
   ],
   "source": [
    "#Decision Tree Classifier\n",
    "from sklearn.tree import DecisionTreeClassifier\n",
    "DTclf = DecisionTreeClassifier()\n",
    "DTclf.fit(X_train, Y_train)\n",
    "Accuracy3 = DTclf.score(X_test, Y_test)\n",
    "print(\"Decision Tree Classifier\",Accuracy3*100)"
   ]
  },
  {
   "cell_type": "code",
   "execution_count": 28,
   "id": "982bae89-8726-479d-9acf-e02c823c88d6",
   "metadata": {},
   "outputs": [
    {
     "name": "stdout",
     "output_type": "stream",
     "text": [
      "[0 1 1 ... 0 1 0]\n"
     ]
    }
   ],
   "source": [
    "DTclPrediction = DTclf.predict(X_test)\n",
    "print(DTclPrediction)"
   ]
  },
  {
   "cell_type": "code",
   "execution_count": 39,
   "id": "18acc43a-7dad-48a8-ba97-d677aa187802",
   "metadata": {},
   "outputs": [
    {
     "name": "stdout",
     "output_type": "stream",
     "text": [
      "Decision Tree Classifier Accuracy 0.9701923076923077\n",
      "Decision Tree Classifier f1_score 0.9701819320191705\n",
      "Decision Tree Classifier precision_score 0.9702887491768768\n",
      "Decision Tree Classifier recall_score 0.9701200111737398\n"
     ]
    }
   ],
   "source": [
    "print(\"Decision Tree Classifier Accuracy\",Accuracy3)\n",
    "print(\"Decision Tree Classifier f1_score\",f1_score(Y_test, DTclPrediction, average=\"macro\"))\n",
    "print(\"Decision Tree Classifier precision_score\",precision_score(Y_test, DTclPrediction, average=\"macro\"))\n",
    "print(\"Decision Tree Classifier recall_score\",recall_score(Y_test, DTclPrediction, average=\"macro\"))"
   ]
  },
  {
   "cell_type": "code",
   "execution_count": 29,
   "id": "e1257f5e-ff14-45aa-b3cb-b9a317d855d8",
   "metadata": {},
   "outputs": [
    {
     "name": "stdout",
     "output_type": "stream",
     "text": [
      "[[2474   90]\n",
      " [  65 2571]]\n"
     ]
    },
    {
     "data": {
      "image/png": "[encoded data removed]",
      "text/plain": [
       "<Figure size 500x500 with 2 Axes>"
      ]
     },
     "metadata": {},
     "output_type": "display_data"
    }
   ],
   "source": [
    "#Confusion Metrics\n",
    "NBcm = metrics.confusion_matrix(Y_test, DTclPrediction)\n",
    "print(NBcm)\n",
    "\n",
    "plt.figure(figsize=(5,5))\n",
    "sns.heatmap(NBcm, annot=True, fmt=\".3f\", linewidths=.5, square = True, cmap = 'Blues_r');\n",
    "plt.ylabel('Actual label');\n",
    "plt.xlabel('Predicted label');\n",
    "all_sample_title = 'Accuracy Score: {0}'.format(Accuracy3)\n",
    "plt.title(all_sample_title, size = 15);"
   ]
  },
  {
   "cell_type": "code",
   "execution_count": 43,
   "id": "0fb50d9b-818e-45dd-9bff-d280f1913822",
   "metadata": {},
   "outputs": [
    {
     "name": "stdout",
     "output_type": "stream",
     "text": [
      "[1]\n",
      "The news is Fake and Unreliable\n"
     ]
    }
   ],
   "source": [
    "X_new = X_test[1]\n",
    "\n",
    "prediction = DTclf.predict(X_new)\n",
    "print(prediction)\n",
    "\n",
    "if (prediction[0] == 0):\n",
    "  print('The news in Real')\n",
    "else:\n",
    "  print('The news is Fake and Unreliable')"
   ]
  },
  {
   "cell_type": "code",
   "execution_count": null,
   "id": "83b20724-f2d3-4fd7-9cf5-aa4553b3be3b",
   "metadata": {},
   "outputs": [
    {
     "data": {
      "text/html": [
       "<div>\n",
       "<style scoped>\n",
       "    .dataframe tbody tr th:only-of-type {\n",
       "        vertical-align: middle;\n",
       "    }\n",
       "\n",
       "    .dataframe tbody tr th {\n",
       "        vertical-align: top;\n",
       "    }\n",
       "\n",
       "    .dataframe thead th {\n",
       "        text-align: right;\n",
       "    }\n",
       "</style>\n",
       "<table border=\"1\" class=\"dataframe\">\n",
       "  <thead>\n",
       "    <tr style=\"text-align: right;\">\n",
       "      <th></th>\n",
       "      <th>id</th>\n",
       "      <th>title</th>\n",
       "      <th>author</th>\n",
       "      <th>text</th>\n",
       "      <th>label</th>\n",
       "    </tr>\n",
       "  </thead>\n",
       "  <tbody>\n",
       "    <tr>\n",
       "      <th>1</th>\n",
       "      <td>1</td>\n",
       "      <td>FLYNN: Hillary Clinton, Big Woman on Campus - ...</td>\n",
       "      <td>Daniel J. Flynn</td>\n",
       "      <td>Ever get the feeling your life circles the rou...</td>\n",
       "      <td>0</td>\n",
       "    </tr>\n",
       "  </tbody>\n",
       "</table>\n",
       "</div>"
      ],
      "text/plain": [
       "   id                                              title           author  \\\n",
       "1   1  FLYNN: Hillary Clinton, Big Woman on Campus - ...  Daniel J. Flynn   \n",
       "\n",
       "                                                text  label  \n",
       "1  Ever get the feeling your life circles the rou...      0  "
      ]
     },
     "execution_count": 44,
     "metadata": {},
     "output_type": "execute_result"
    }
   ],
   "source": [
    "df[1:2]"
   ]
  }
 ],
 "metadata": {
  "kernelspec": {
   "display_name": "Python 3 (ipykernel)",
   "language": "python",
   "name": "python3"
  },
  "language_info": {
   "codemirror_mode": {
    "name": "ipython",
    "version": 3
   },
   "file_extension": ".py",
   "mimetype": "text/x-python",
   "name": "python",
   "nbconvert_exporter": "python",
   "pygments_lexer": "ipython3",
   "version": "3.9.13"
  }
 },
 "nbformat": 4,
 "nbformat_minor": 5
}
